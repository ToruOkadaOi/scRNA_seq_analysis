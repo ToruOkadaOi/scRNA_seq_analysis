{
 "cells": [
  {
   "cell_type": "markdown",
   "id": "d8251d6a",
   "metadata": {},
   "source": [
    "### For CLI, \n",
    "\n",
    "these commands are needed:\n",
    "\n",
    "`conda init bash` && `source ~/.bashrc` && `conda activate velocyto`"
   ]
  },
  {
   "cell_type": "code",
   "execution_count": null,
   "id": "a0fbc79d",
   "metadata": {},
   "outputs": [],
   "source": []
  }
 ],
 "metadata": {
  "kernelspec": {
   "display_name": "python_velocyto",
   "language": "python",
   "name": "velocyto"
  },
  "language_info": {
   "codemirror_mode": {
    "name": "ipython",
    "version": 3
   },
   "file_extension": ".py",
   "mimetype": "text/x-python",
   "name": "python",
   "nbconvert_exporter": "python",
   "pygments_lexer": "ipython3",
   "version": "3.13.3"
  }
 },
 "nbformat": 4,
 "nbformat_minor": 5
}
